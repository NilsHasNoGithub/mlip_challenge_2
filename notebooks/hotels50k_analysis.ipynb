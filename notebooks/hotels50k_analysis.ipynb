{
 "cells": [
  {
   "cell_type": "code",
   "execution_count": 3,
   "metadata": {},
   "outputs": [],
   "source": [
    "import sys\n",
    "\n",
    "sys.path.append(\"..\")\n",
    "from library.config import TrainMetadata\n",
    "import matplotlib.pyplot as plt\n",
    "from collections import defaultdict"
   ]
  },
  {
   "cell_type": "code",
   "execution_count": null,
   "metadata": {},
   "outputs": [],
   "source": [
    "metadata_file = \"../data/pretrain_metadata.yml\"\n",
    "\n",
    "metadata = TrainMetadata.from_yaml(metadata_file)"
   ]
  },
  {
   "cell_type": "code",
   "execution_count": 15,
   "metadata": {},
   "outputs": [
    {
     "name": "stdout",
     "output_type": "stream",
     "text": [
      "Label amount: 49041\n"
     ]
    },
    {
     "data": {
      "image/png": "[encoded data removed]",
      "text/plain": [
       "<Figure size 432x288 with 1 Axes>"
      ]
     },
     "metadata": {
      "needs_background": "light"
     },
     "output_type": "display_data"
    }
   ],
   "source": [
    "labels = metadata.txt_labels\n",
    "\n",
    "label_counts = defaultdict(int)\n",
    "\n",
    "for l in labels:\n",
    "    label_counts[l] += 1\n",
    "\n",
    "print(f\"Label amount: {len(label_counts)}\")\n",
    "plt.plot(sorted(label_counts.values(), reverse=True))\n",
    "plt.ylim(0, 100)\n",
    "plt.show()"
   ]
  },
  {
   "cell_type": "code",
   "execution_count": 13,
   "metadata": {},
   "outputs": [
    {
     "name": "stdout",
     "output_type": "stream",
     "text": [
      "Remaining sample amount: 466804\n",
      "remaining label amount: 12644\n"
     ]
    }
   ],
   "source": [
    "min_count = 25\n",
    "max_count = 75\n",
    "\n",
    "n_remaining_samples = 0\n",
    "remaining_labels = set()\n",
    "\n",
    "\n",
    "for k, v in label_counts.items():\n",
    "    if min_count <= v <= max_count:\n",
    "        n_remaining_samples += v\n",
    "\n",
    "        remaining_labels.add(k)\n",
    "\n",
    "print(f\"Remaining sample amount: {n_remaining_samples}\")\n",
    "print(f\"remaining label amount: {len(remaining_labels)}\")\n",
    "# print(f\"Remaining labels: {remaining_labels}\")"
   ]
  },
  {
   "cell_type": "code",
   "execution_count": null,
   "metadata": {},
   "outputs": [],
   "source": []
  }
 ],
 "metadata": {
  "interpreter": {
   "hash": "f4d60a3fcd887db86e846d76f7c6a18e00f62eb51f11e90b42aa96d6417b59e4"
  },
  "kernelspec": {
   "display_name": "Python 3.7.12 ('mlip_challenge_2')",
   "language": "python",
   "name": "python3"
  },
  "language_info": {
   "codemirror_mode": {
    "name": "ipython",
    "version": 3
   },
   "file_extension": ".py",
   "mimetype": "text/x-python",
   "name": "python",
   "nbconvert_exporter": "python",
   "pygments_lexer": "ipython3",
   "version": "3.7.12"
  },
  "orig_nbformat": 4
 },
 "nbformat": 4,
 "nbformat_minor": 2
}
